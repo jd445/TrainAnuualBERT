{
 "cells": [
  {
   "cell_type": "markdown",
   "metadata": {},
   "source": [
    "# LOSS check"
   ]
  },
  {
   "cell_type": "code",
   "execution_count": null,
   "metadata": {},
   "outputs": [],
   "source": [
    "# wholewordbert/checkpoint-615100/trainer_state.json\n",
    "\n",
    "# read the processed data and plot the loss vs step curve\n",
    "import json\n",
    "import matplotlib.pyplot as plt\n",
    "\n",
    "# with open('/home/jjdong/wholewordbert/checkpoint-615200/trainer_state.json') as f:\n",
    "#     data = json.load(f)\n",
    "\n",
    "\n",
    "loss = []\n",
    "step = []\n",
    "for data_point in data['log_history']:\n",
    "    loss.append(data_point['loss'])\n",
    "    step.append(data_point['step'])\n",
    "\n",
    "plt.plot(step, loss)\n",
    "plt.xlabel('step')\n",
    "plt.ylabel('loss')\n",
    "plt.title('loss vs step')\n",
    "plt.show()\n"
   ]
  },
  {
   "cell_type": "code",
   "execution_count": null,
   "metadata": {},
   "outputs": [],
   "source": [
    "data['log_history'][0]"
   ]
  },
  {
   "cell_type": "markdown",
   "metadata": {},
   "source": [
    "# Convert into HTML"
   ]
  },
  {
   "cell_type": "markdown",
   "metadata": {},
   "source": [
    "# PDF finder\n"
   ]
  },
  {
   "cell_type": "code",
   "execution_count": 7,
   "metadata": {},
   "outputs": [],
   "source": [
    "import re\n",
    "import fitz\n",
    "from neattext.functions import clean_text\n",
    "from neattext import TextMetrics\n",
    "import nltk\n",
    "from nltk.tokenize import sent_tokenize\n",
    "import os\n",
    "import multiprocessing\n",
    "from tqdm import tqdm\n",
    "import subprocess\n",
    "def extract_pdf_text(file_path):\n",
    "    # 使用 PyMuPDF 打开 PDF 文件\n",
    "    doc = fitz.open(file_path)\n",
    "\n",
    "    # 提取 PDF 文本\n",
    "    text = \"\"\n",
    "    for page in doc:\n",
    "        text += page.get_text()\n",
    "\n",
    "    return text\n",
    "\n",
    "def cleantext(text):\n",
    "    # if line < 5, delete\n",
    "    lines = text.split(\"\\n\")\n",
    "\n",
    "    lines = [line for line in lines if (len(line) > 20 and TextMetrics(line).noise_scan()['text_noise'] < 20)]\n",
    "\n",
    "    return \" \".join(lines)\n",
    "\n",
    "\n",
    "def clean_pdfs(file_path, txt_folder, tokenizer):\n",
    "    # 提取 PDF 文本\n",
    "    # print(file_path)\n",
    "    pdf_text = extract_pdf_text(file_path)\n",
    "    \n",
    "    # 清洗文本\n",
    "    pdf_text = cleantext(pdf_text)\n",
    "    # re for remove \"- \"\n",
    "    import re\n",
    "    pdf_text = re.sub(r'- ', '', pdf_text)\n",
    "    # remove all in []\n",
    "    pdf_text = re.sub(r'\\[.*?\\]', '', pdf_text)\n",
    "    # remove • \n",
    "    pdf_text = re.sub(r'•', '.', pdf_text)\n",
    "    context = re.sub(r'eq\\.', ' EQU ', pdf_text, flags=re.IGNORECASE)\n",
    "    context = re.sub(r'equ\\.', ' EQU ', context, flags=re.IGNORECASE)\n",
    "    context = re.sub(r'eqs\\.', ' EQU ', context, flags=re.IGNORECASE)\n",
    "    context = re.sub(r'fig\\.', ' FIG ', context, flags=re.IGNORECASE)\n",
    "    context = re.sub(r'Figs\\.', ' FIG ', context, flags=re.IGNORECASE)\n",
    "    context = re.sub(r'Ref\\.', ' REF ', context, flags=re.IGNORECASE)\n",
    "    context = re.sub(r'Refs\\.', ' REF ', context, flags=re.IGNORECASE)\n",
    "    pdf_text = re.sub(r'sec\\.', ' SEC,', context, flags=re.IGNORECASE)\n",
    "    context = clean_text(pdf_text)\n",
    "    sentences = tokenizer.tokenize(pdf_text)\n",
    "    #   5.3 remove sentences with less than 3 words\n",
    "    sentences = [sentence.replace(\"  \",\" \") for sentence in sentences if len(sentence.split(\" \")) >= 2]\n",
    "\n",
    "    with open(os.path.join(txt_folder, file_path.split(\"/\")[-1][:-4] + '.txt'), 'wt', encoding='utf-8') as output_file:\n",
    "        output_file.write('\\n'.join(sentences))\n",
    "\n",
    "\n",
    "\n",
    "def tokeizer2sentences(tokenizer, file_name):\n",
    "        # print(file_name)\n",
    "    result = True\n",
    "    try:\n",
    "        clean_pdfs(file_name, txt_folder, tokenizer)\n",
    "    except Exception as e:\n",
    "        # save e to log file\n",
    "        with open('error.log', 'at', encoding='utf-8') as log_file:\n",
    "            log_file.write(file_name + '\\n')\n",
    "            log_file.write(str(e) + '\\n')\n",
    "            log_file.write('\\n')\n",
    "        result = False\n",
    "    return result\n",
    "\n",
    "\n",
    "def process_chunk(chunk):\n",
    "    count_file = {}\n",
    "    count_file['success'] = 0\n",
    "    count_file['fail'] = 0\n",
    "    for file_name in tqdm(chunk):\n",
    "        res = tokeizer2sentences(tokenizer, file_name)\n",
    "        if res:\n",
    "            count_file['success'] += 1\n",
    "        else:\n",
    "            count_file['fail'] += 1\n",
    "    return count_file\n"
   ]
  },
  {
   "cell_type": "code",
   "execution_count": 4,
   "metadata": {},
   "outputs": [
    {
     "name": "stderr",
     "output_type": "stream",
     "text": [
      "29330it [00:00, 720411.66it/s]\n"
     ]
    }
   ],
   "source": [
    "from tqdm import tqdm\n",
    "import os\n",
    "\n",
    "def find_pdf_files(root_directory):\n",
    "    tex_files = []\n",
    "\n",
    "    for entry in tqdm(os.scandir(root_directory)):\n",
    "        if entry.is_file() and entry.name.endswith('.pdf'):\n",
    "            tex_files.append(entry.path)\n",
    "\n",
    "    return tex_files\n",
    "\n",
    "ssss = 2000\n",
    "\n",
    "root_directory = \"/media/sdb/arxiv_bert/COUNTFORFIG/{}/\".format(ssss)\n",
    "clean_path = \"/media/sdb/arxiv_bert/HPC_pdf2txt/{}/\".format(ssss)\n",
    "\n",
    "pdf_files = find_pdf_files(root_directory)"
   ]
  },
  {
   "cell_type": "code",
   "execution_count": 8,
   "metadata": {},
   "outputs": [
    {
     "name": "stderr",
     "output_type": "stream",
     "text": [
      "100%|██████████| 639/639 [00:00<00:00, 40892.26it/s]\n"
     ]
    },
    {
     "name": "stdout",
     "output_type": "stream",
     "text": [
      "success:  0\n",
      "fail:  639\n"
     ]
    }
   ],
   "source": [
    "\n",
    "# Define the number of processes to use (8 in this case)\n",
    "num_processes = 1\n",
    "from tqdm import tqdm\n",
    "\n",
    "tokenizer = nltk.data.load('tokenizers/punkt/english.pickle')\n",
    "# get all the file name in the folder\n",
    "\n",
    "\n",
    "chunks = [pdf_files[i:i + len(pdf_files) // num_processes] for i in range(0, len(pdf_files), len(pdf_files) // num_processes)]\n",
    "\n",
    "pool = multiprocessing.Pool(processes=num_processes)\n",
    "merged_count_file = {'success': 0, 'fail': 0}\n",
    "for count_file in pool.imap_unordered(process_chunk, chunks):\n",
    "    merged_count_file['success'] += count_file['success']\n",
    "    merged_count_file['fail'] += count_file['fail']\n",
    "print('success: ', merged_count_file['success'])\n",
    "print('fail: ', merged_count_file['fail'])\n",
    "pool.close()\n",
    "pool.join()"
   ]
  },
  {
   "cell_type": "markdown",
   "metadata": {},
   "source": [
    "# 超级大合成"
   ]
  },
  {
   "cell_type": "code",
   "execution_count": 2,
   "metadata": {},
   "outputs": [
    {
     "name": "stdout",
     "output_type": "stream",
     "text": [
      "1990\n",
      "1991\n",
      "1992\n",
      "1993\n",
      "1994\n",
      "1995\n",
      "1996\n",
      "1997\n",
      "1998\n",
      "1999\n",
      "2000\n",
      "2001\n",
      "2002\n",
      "2003\n",
      "2004\n",
      "2005\n",
      "2006\n",
      "2007\n",
      "2008\n"
     ]
    }
   ],
   "source": [
    "import os\n",
    "root_directory = \"/media/sdb/arxiv_bert/HPC_txt/txt_year\"\n",
    "with open(\"/media/sdb/arxiv_bert/HPC_txt/txt_year/1990_2008.txt\", 'w') as f:\n",
    "    for year in range(1990, 2009):\n",
    "        print(year)\n",
    "        with open(os.path.join(root_directory, str(year) + '.txt'), 'r') as f_in:\n",
    "            f.write(f_in.read())\n",
    "            "
   ]
  }
 ],
 "metadata": {
  "kernelspec": {
   "display_name": "junjie",
   "language": "python",
   "name": "python3"
  },
  "language_info": {
   "codemirror_mode": {
    "name": "ipython",
    "version": 3
   },
   "file_extension": ".py",
   "mimetype": "text/x-python",
   "name": "python",
   "nbconvert_exporter": "python",
   "pygments_lexer": "ipython3",
   "version": "3.11.5"
  }
 },
 "nbformat": 4,
 "nbformat_minor": 2
}
