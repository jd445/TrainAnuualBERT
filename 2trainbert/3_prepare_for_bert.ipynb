{
 "cells": [
  {
   "cell_type": "code",
   "execution_count": null,
   "metadata": {},
   "outputs": [],
   "source": [
    "# from pathlib import Path\n",
    "\n",
    "# from tokenizers import ByteLevelBPETokenizer\n",
    "\n",
    "# paths = [str(x) for x in Path(\"/mnt/data/arxiv/source/tex2txt\").glob(\"**/*.txt\")]\n",
    "\n",
    "# # # Initialize a tokenizer\n",
    "# tokenizer = ByteLevelBPETokenizer()\n",
    "\n",
    "# # Customize training\n",
    "# tokenizer.train(files=paths, vocab_size=52_000, min_frequency=2, special_tokens=[\n",
    "#     \"<s>\",\n",
    "#     \"<pad>\",\n",
    "#     \"</s>\",\n",
    "#     \"<unk>\",\n",
    "#     \"<mask>\",\n",
    "# ], show_progress=True)\n",
    "# # !mkdir arxivbert\n",
    "# tokenizer.save_model(\"arxivbert\")"
   ]
  },
  {
   "cell_type": "code",
   "execution_count": 3,
   "metadata": {},
   "outputs": [
    {
     "name": "stderr",
     "output_type": "stream",
     "text": [
      "100%|██████████| 3000/3000 [00:00<00:00, 3244.53it/s] \n"
     ]
    }
   ],
   "source": [
    "# read the all the file names in the folder\n",
    "# folder name: /mnt/data/arxiv/source/tex2txt\n",
    "import os\n",
    "import pandas as pd\n",
    "from tqdm import tqdm\n",
    "file_names = os.listdir('/mnt/data/arxiv/source/tex2txt')\n",
    "file_names = file_names[:3000]\n",
    "# merge all file into a txt\n",
    "with open('/mnt/data/arxiv/source/all_file_bert1000.txt', 'w') as f:\n",
    "    for file_name in tqdm(file_names):\n",
    "        # read the file\n",
    "        with open('/mnt/data/arxiv/source/tex2txt/' + file_name, 'r') as f1:\n",
    "            text = f1.read()\n",
    "            f.write(text)\n",
    "            f.write(\"\\n\")"
   ]
  },
  {
   "cell_type": "code",
   "execution_count": null,
   "metadata": {},
   "outputs": [],
   "source": [
    "from tokenizers.implementations import ByteLevelBPETokenizer\n",
    "from tokenizers.processors import BertProcessing\n",
    "\n",
    "\n",
    "tokenizer = ByteLevelBPETokenizer(\n",
    "    \"./arxivbert/vocab.json\",\n",
    "    \"./arxivbert/merges.txt\",\n",
    ")"
   ]
  },
  {
   "cell_type": "code",
   "execution_count": null,
   "metadata": {},
   "outputs": [],
   "source": [
    "tokenizer._tokenizer.post_processor = BertProcessing(\n",
    "    (\"</s>\", tokenizer.token_to_id(\"</s>\")),\n",
    "    (\"<s>\", tokenizer.token_to_id(\"<s>\")),\n",
    ")\n",
    "tokenizer.enable_truncation(max_length=128)"
   ]
  },
  {
   "cell_type": "code",
   "execution_count": null,
   "metadata": {},
   "outputs": [],
   "source": [
    "tokenizer.encode(\"This is America\")"
   ]
  },
  {
   "cell_type": "code",
   "execution_count": null,
   "metadata": {},
   "outputs": [],
   "source": [
    "tokenizer.encode(\"This is bioinformatics\").tokens\n"
   ]
  },
  {
   "cell_type": "code",
   "execution_count": null,
   "metadata": {},
   "outputs": [],
   "source": [
    "!nvidia-smi"
   ]
  },
  {
   "cell_type": "code",
   "execution_count": null,
   "metadata": {},
   "outputs": [],
   "source": [
    "from transformers import RobertaConfig\n",
    "\n",
    "config = RobertaConfig(\n",
    "    vocab_size=52_000,\n",
    "    max_position_embeddings=258,\n",
    "    num_attention_heads=12,\n",
    "    num_hidden_layers=6,\n",
    "    type_vocab_size=1,\n",
    ")\n",
    "from transformers import RobertaTokenizerFast\n",
    "\n",
    "tokenizer = RobertaTokenizerFast.from_pretrained(\"./arxivbert\", truncation=True, max_len=256)\n",
    "from transformers import RobertaForMaskedLM\n",
    "\n",
    "model = RobertaForMaskedLM(config=config)\n",
    "model.num_parameters()"
   ]
  },
  {
   "cell_type": "code",
   "execution_count": null,
   "metadata": {},
   "outputs": [],
   "source": [
    "from datasets import load_dataset\n",
    "\n",
    "# dataset = load_dataset('text', data_files='/mnt/data/arxiv/source/all_file_bert.txt')\n",
    "\n",
    "# # Tokenize the dataset\n",
    "# def tokenize_function(examples):\n",
    "#     return tokenizer(examples[\"text\"], truncation=True, max_length=256)\n",
    "\n",
    "# tokenized_dataset = dataset.map(tokenize_function, batched=True)"
   ]
  },
  {
   "cell_type": "code",
   "execution_count": null,
   "metadata": {},
   "outputs": [],
   "source": [
    "# tokenized_dataset.save_to_disk('/mnt/data/arxiv/source/tokenized_dataset1000')"
   ]
  },
  {
   "cell_type": "code",
   "execution_count": null,
   "metadata": {},
   "outputs": [],
   "source": [
    "from datasets import  load_from_disk\n",
    "# Load the saved dataset from disk\n",
    "tokenized_dataset = load_from_disk('/media/sdb/token_bert')"
   ]
  },
  {
   "cell_type": "code",
   "execution_count": null,
   "metadata": {},
   "outputs": [],
   "source": [
    "from transformers import Trainer, TrainingArguments, DataCollatorForLanguageModeling\n",
    "from datasets import load_metric\n",
    "\n",
    "\n",
    "data_collator = DataCollatorForLanguageModeling(\n",
    "    tokenizer=tokenizer, mlm=True, mlm_probability=0.15\n",
    ")\n",
    "\n",
    "training_args = TrainingArguments(\n",
    "    output_dir=\"./arxivbert\",\n",
    "    overwrite_output_dir=True,\n",
    "    num_train_epochs=10,\n",
    "    per_device_train_batch_size=48,\n",
    "    save_steps=100,\n",
    "    save_total_limit=2,\n",
    ")\n",
    "\n",
    "trainer = Trainer(\n",
    "    model=model,\n",
    "    args=training_args,\n",
    "    data_collator=data_collator,\n",
    "    train_dataset=tokenized_dataset['train'],  # use the entire tokenized dataset\n",
    ")"
   ]
  },
  {
   "cell_type": "code",
   "execution_count": 13,
   "metadata": {},
   "outputs": [],
   "source": [
    "\n",
    "import warnings\n",
    "\n",
    "# Ignore all warnings\n",
    "warnings.filterwarnings('ignore')\n",
    "\n",
    "trainer.train()"
   ]
  },
  {
   "cell_type": "code",
   "execution_count": 6,
   "metadata": {},
   "outputs": [],
   "source": [
    "from transformers import pipeline\n",
    "\n",
    "fill_mask = pipeline(\n",
    "    \"fill-mask\",\n",
    "    model=\"/media/sdb/arxiv_bert/all_year_model/2008\",\n",
    "    tokenizer=\"/media/sdb/arxiv_bert/all_year_model/wholewordtokenizer\"\n",
    ")\n",
    "fill_mask(\"Classification is one of the most challenging tasks in sequence analysis since there are no explicit features and the dimensionality of the feature space is very high.\")"
   ]
  },
  {
   "cell_type": "code",
   "execution_count": 17,
   "metadata": {},
   "outputs": [
    {
     "data": {
      "text/plain": [
       "[{'score': 0.27994075417518616,\n",
       "  'token': 1996,\n",
       "  'token_str': ' theorem',\n",
       "  'sequence': 'This measure involves computing the Hamming distance between a substring of a sliding window of length $k$ and a $k$-mer $p \\\\in P$, as shown in the following theorem.'},\n",
       " {'score': 0.19669824838638306,\n",
       "  'token': 4340,\n",
       "  'token_str': ' lemma',\n",
       "  'sequence': 'This measure involves computing the Hamming distance between a substring of a sliding window of length $k$ and a $k$-mer $p \\\\in P$, as shown in the following lemma.'},\n",
       " {'score': 0.13794490694999695,\n",
       "  'token': 1300,\n",
       "  'token_str': ' example',\n",
       "  'sequence': 'This measure involves computing the Hamming distance between a substring of a sliding window of length $k$ and a $k$-mer $p \\\\in P$, as shown in the following example.'},\n",
       " {'score': 0.0771234780550003,\n",
       "  'token': 5907,\n",
       "  'token_str': ' proposition',\n",
       "  'sequence': 'This measure involves computing the Hamming distance between a substring of a sliding window of length $k$ and a $k$-mer $p \\\\in P$, as shown in the following proposition.'},\n",
       " {'score': 0.04598508030176163,\n",
       "  'token': 1120,\n",
       "  'token_str': ' section',\n",
       "  'sequence': 'This measure involves computing the Hamming distance between a substring of a sliding window of length $k$ and a $k$-mer $p \\\\in P$, as shown in the following section.'}]"
      ]
     },
     "execution_count": 17,
     "metadata": {},
     "output_type": "execute_result"
    }
   ],
   "source": [
    "from transformers import pipeline\n",
    "\n",
    "fill_mask = pipeline(\n",
    "    \"fill-mask\",\n",
    "    model=\"./aaaaaa\",\n",
    "    tokenizer=\"./aaaaaa\"\n",
    ")\n",
    "fill_mask(\"This measure involves computing the Hamming distance between a substring of a sliding window of length $k$ and a $k$-mer $p \\in P$, as shown in the following <mask>.\")"
   ]
  }
 ],
 "metadata": {
  "kernelspec": {
   "display_name": "junjie",
   "language": "python",
   "name": "python3"
  },
  "language_info": {
   "codemirror_mode": {
    "name": "ipython",
    "version": 3
   },
   "file_extension": ".py",
   "mimetype": "text/x-python",
   "name": "python",
   "nbconvert_exporter": "python",
   "pygments_lexer": "ipython3",
   "version": "3.11.5"
  }
 },
 "nbformat": 4,
 "nbformat_minor": 2
}
